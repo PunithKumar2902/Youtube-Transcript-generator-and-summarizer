{
  "cells": [
    {
      "cell_type": "markdown",
      "metadata": {
        "id": "rntJPk4H2OoF"
      },
      "source": [
        "#**Downloading the YouTube Video's Audio**"
      ]
    },
    {
      "cell_type": "code",
      "execution_count": null,
      "metadata": {
        "id": "JCDAbzvU1DqZ"
      },
      "outputs": [],
      "source": [
        "! pip install pytube -q"
      ]
    },
    {
      "cell_type": "code",
      "execution_count": null,
      "metadata": {
        "id": "IRT0zkiT1Q1L"
      },
      "outputs": [],
      "source": [
        "from pytube import YouTube"
      ]
    },
    {
      "cell_type": "code",
      "source": [
        "URL = 'https://www.youtube.com/watch?v=tpmdvmcb6zQ'"
      ],
      "metadata": {
        "id": "z4s2ZtSmHj3-"
      },
      "execution_count": null,
      "outputs": []
    },
    {
      "cell_type": "code",
      "source": [
        "vid_id = URL.split(\"=\")[1]"
      ],
      "metadata": {
        "id": "bN4WeM2HGv0H"
      },
      "execution_count": null,
      "outputs": []
    },
    {
      "cell_type": "code",
      "source": [
        "from IPython.display import YouTubeVideo\n",
        "YouTubeVideo(vid_id)"
      ],
      "metadata": {
        "colab": {
          "base_uri": "https://localhost:8080/",
          "height": 321
        },
        "id": "WkE0cUzEGr3U",
        "outputId": "166135fe-362b-4a55-92b0-564e2ada6fbb"
      },
      "execution_count": null,
      "outputs": [
        {
          "output_type": "execute_result",
          "data": {
            "text/plain": [
              "<IPython.lib.display.YouTubeVideo at 0x7f86f60c4ac0>"
            ],
            "text/html": [
              "\n",
              "        <iframe\n",
              "            width=\"400\"\n",
              "            height=\"300\"\n",
              "            src=\"https://www.youtube.com/embed/tpmdvmcb6zQ\"\n",
              "            frameborder=\"0\"\n",
              "            allowfullscreen\n",
              "            \n",
              "        ></iframe>\n",
              "        "
            ],
            "image/jpeg": "[encoded data removed]"
          },
          "metadata": {},
          "execution_count": 53
        }
      ]
    },
    {
      "cell_type": "code",
      "execution_count": null,
      "metadata": {
        "id": "nhBsFZ4V1wZG"
      },
      "outputs": [],
      "source": [
        "yt = YouTube(URL)"
      ]
    },
    {
      "cell_type": "code",
      "execution_count": null,
      "metadata": {
        "colab": {
          "base_uri": "https://localhost:8080/",
          "height": 35
        },
        "id": "zk1w07V21XDZ",
        "outputId": "850e8585-ac96-4341-c3b2-b382b499e607"
      },
      "outputs": [
        {
          "output_type": "execute_result",
          "data": {
            "text/plain": [
              "'/content/audiofile.mp4'"
            ],
            "application/vnd.google.colaboratory.intrinsic+json": {
              "type": "string"
            }
          },
          "metadata": {},
          "execution_count": 55
        }
      ],
      "source": [
        "yt.streams \\\n",
        "  .filter(only_audio = True, file_extension = 'mp4') \\\n",
        "  .first() \\\n",
        "  .download(filename = 'audiofile.mp4')"
      ]
    },
    {
      "cell_type": "code",
      "execution_count": null,
      "metadata": {
        "id": "zUfk3DWo12yb",
        "colab": {
          "base_uri": "https://localhost:8080/"
        },
        "outputId": "82051e57-0266-4ee9-e2ce-1e8d3cbcabe2"
      },
      "outputs": [
        {
          "output_type": "stream",
          "name": "stdout",
          "text": [
            "ffmpeg version 4.4.2-0ubuntu0.22.04.1 Copyright (c) 2000-2021 the FFmpeg developers\n",
            "  built with gcc 11 (Ubuntu 11.2.0-19ubuntu1)\n",
            "  configuration: --prefix=/usr --extra-version=0ubuntu0.22.04.1 --toolchain=hardened --libdir=/usr/lib/x86_64-linux-gnu --incdir=/usr/include/x86_64-linux-gnu --arch=amd64 --enable-gpl --disable-stripping --enable-gnutls --enable-ladspa --enable-libaom --enable-libass --enable-libbluray --enable-libbs2b --enable-libcaca --enable-libcdio --enable-libcodec2 --enable-libdav1d --enable-libflite --enable-libfontconfig --enable-libfreetype --enable-libfribidi --enable-libgme --enable-libgsm --enable-libjack --enable-libmp3lame --enable-libmysofa --enable-libopenjpeg --enable-libopenmpt --enable-libopus --enable-libpulse --enable-librabbitmq --enable-librubberband --enable-libshine --enable-libsnappy --enable-libsoxr --enable-libspeex --enable-libsrt --enable-libssh --enable-libtheora --enable-libtwolame --enable-libvidstab --enable-libvorbis --enable-libvpx --enable-libwebp --enable-libx265 --enable-libxml2 --enable-libxvid --enable-libzimg --enable-libzmq --enable-libzvbi --enable-lv2 --enable-omx --enable-openal --enable-opencl --enable-opengl --enable-sdl2 --enable-pocketsphinx --enable-librsvg --enable-libmfx --enable-libdc1394 --enable-libdrm --enable-libiec61883 --enable-chromaprint --enable-frei0r --enable-libx264 --enable-shared\n",
            "  libavutil      56. 70.100 / 56. 70.100\n",
            "  libavcodec     58.134.100 / 58.134.100\n",
            "  libavformat    58. 76.100 / 58. 76.100\n",
            "  libavdevice    58. 13.100 / 58. 13.100\n",
            "  libavfilter     7.110.100 /  7.110.100\n",
            "  libswscale      5.  9.100 /  5.  9.100\n",
            "  libswresample   3.  9.100 /  3.  9.100\n",
            "  libpostproc    55.  9.100 / 55.  9.100\n",
            "Input #0, mov,mp4,m4a,3gp,3g2,mj2, from 'audiofile.mp4':\n",
            "  Metadata:\n",
            "    major_brand     : dash\n",
            "    minor_version   : 0\n",
            "    compatible_brands: iso6mp41\n",
            "    creation_time   : 2023-11-29T21:32:13.000000Z\n",
            "  Duration: 00:03:56.84, start: 0.000000, bitrate: 48 kb/s\n",
            "  Stream #0:0(und): Audio: aac (HE-AAC) (mp4a / 0x6134706D), 44100 Hz, stereo, fltp, 2 kb/s (default)\n",
            "    Metadata:\n",
            "      creation_time   : 2023-11-29T21:32:13.000000Z\n",
            "      handler_name    : ISO Media file produced by Google Inc.\n",
            "      vendor_id       : [0][0][0][0]\n",
            "File 'audiofile.wav' already exists. Overwrite? [y/N] y\n",
            "Stream mapping:\n",
            "  Stream #0:0 -> #0:0 (aac (native) -> pcm_s16le (native))\n",
            "Press [q] to stop, [?] for help\n",
            "Output #0, wav, to 'audiofile.wav':\n",
            "  Metadata:\n",
            "    major_brand     : dash\n",
            "    minor_version   : 0\n",
            "    compatible_brands: iso6mp41\n",
            "    ISFT            : Lavf58.76.100\n",
            "  Stream #0:0(und): Audio: pcm_s16le ([1][0][0][0] / 0x0001), 16000 Hz, stereo, s16, 512 kb/s (default)\n",
            "    Metadata:\n",
            "      creation_time   : 2023-11-29T21:32:13.000000Z\n",
            "      handler_name    : ISO Media file produced by Google Inc.\n",
            "      vendor_id       : [0][0][0][0]\n",
            "      encoder         : Lavc58.134.100 pcm_s16le\n",
            "size=   14803kB time=00:03:56.84 bitrate= 512.0kbits/s speed= 463x    \n",
            "video:0kB audio:14803kB subtitle:0kB other streams:0kB global headers:0kB muxing overhead: 0.000515%\n"
          ]
        }
      ],
      "source": [
        "! ffmpeg -i audiofile.mp4 -acodec pcm_s16le -ar 16000 audiofile.wav"
      ]
    },
    {
      "cell_type": "markdown",
      "metadata": {
        "id": "5CqgQmI62RcX"
      },
      "source": [
        "#**English Speech to text model with HuggingSound**"
      ]
    },
    {
      "cell_type": "code",
      "execution_count": null,
      "metadata": {
        "id": "UkfBQrUN2Vjr"
      },
      "outputs": [],
      "source": [
        "!pip install huggingsound -q"
      ]
    },
    {
      "cell_type": "code",
      "execution_count": null,
      "metadata": {
        "id": "XkUnx8ZU2WlJ"
      },
      "outputs": [],
      "source": [
        "from huggingsound import SpeechRecognitionModel\n"
      ]
    },
    {
      "cell_type": "code",
      "execution_count": null,
      "metadata": {
        "id": "Jj7WcGRx5NvJ"
      },
      "outputs": [],
      "source": [
        "import torch\n",
        "device = \"cuda\" if torch.cuda.is_available() else \"cpu\""
      ]
    },
    {
      "cell_type": "code",
      "source": [
        "device"
      ],
      "metadata": {
        "colab": {
          "base_uri": "https://localhost:8080/"
        },
        "id": "cZYiuhenEtzD",
        "outputId": "b2fb21fc-3894-49b0-f3aa-154278230c29"
      },
      "execution_count": null,
      "outputs": [
        {
          "output_type": "execute_result",
          "data": {
            "text/plain": [
              "'cuda'"
            ],
            "application/vnd.google.colaboratory.intrinsic+json": {
              "type": "string"
            }
          },
          "metadata": {},
          "execution_count": 60
        }
      ]
    },
    {
      "cell_type": "code",
      "execution_count": null,
      "metadata": {
        "colab": {
          "base_uri": "https://localhost:8080/"
        },
        "id": "2EisvBe52ZHO",
        "outputId": "382b1b29-57e1-42b0-a7ab-7b7e91a7ab08"
      },
      "outputs": [
        {
          "output_type": "stream",
          "name": "stderr",
          "text": [
            "INFO:huggingsound.speech_recognition.model:Loading model...\n"
          ]
        }
      ],
      "source": [
        "model = SpeechRecognitionModel(\"jonatasgrosman/wav2vec2-large-xlsr-53-english\", device = device)\n"
      ]
    },
    {
      "cell_type": "markdown",
      "source": [
        "#**Audio Chunking(To handle memory limitations in Colab )**"
      ],
      "metadata": {
        "id": "FqmMi7VMq3kq"
      }
    },
    {
      "cell_type": "code",
      "source": [
        "import librosa"
      ],
      "metadata": {
        "id": "47leIDcR1LsQ"
      },
      "execution_count": null,
      "outputs": []
    },
    {
      "cell_type": "code",
      "source": [
        "input_file = '/content/audiofile.wav'"
      ],
      "metadata": {
        "id": "lm67x4AX3L57"
      },
      "execution_count": null,
      "outputs": []
    },
    {
      "cell_type": "code",
      "source": [
        "print(librosa.get_samplerate(input_file))\n",
        "\n",
        "# Stream over 30 seconds chunks rather than load the full file\n",
        "stream = librosa.stream(\n",
        "    input_file,\n",
        "    block_length=30,\n",
        "    frame_length=16000,\n",
        "    hop_length=16000\n",
        ")"
      ],
      "metadata": {
        "colab": {
          "base_uri": "https://localhost:8080/"
        },
        "id": "6NGzeYGr3IZA",
        "outputId": "5ebafa47-2150-4d3e-a606-f770487e98db"
      },
      "execution_count": null,
      "outputs": [
        {
          "output_type": "stream",
          "name": "stdout",
          "text": [
            "16000\n"
          ]
        }
      ]
    },
    {
      "cell_type": "code",
      "source": [
        "import soundfile as sf\n"
      ],
      "metadata": {
        "id": "YmlYH6ag32bj"
      },
      "execution_count": null,
      "outputs": []
    },
    {
      "cell_type": "code",
      "source": [
        "for i,speech in enumerate(stream):\n",
        "  sf.write(f'chunck{i}.wav', speech, 16000)"
      ],
      "metadata": {
        "id": "Yj1wf18l3QJJ"
      },
      "execution_count": null,
      "outputs": []
    },
    {
      "cell_type": "markdown",
      "source": [
        "#**Speech to Text conversion**"
      ],
      "metadata": {
        "id": "Y5H4Uyoy9jF9"
      }
    },
    {
      "cell_type": "code",
      "source": [
        "audio_path =[]\n",
        "for a in range(i+1):\n",
        "  audio_path.append(f'/content/chunck{a}.wav')"
      ],
      "metadata": {
        "id": "s8a8Mr4R6ndX"
      },
      "execution_count": null,
      "outputs": []
    },
    {
      "cell_type": "code",
      "execution_count": null,
      "metadata": {
        "colab": {
          "base_uri": "https://localhost:8080/"
        },
        "id": "DYLKuZ1g2kmL",
        "outputId": "1b2152c0-91f5-4e7e-c7ae-616f88c6cdd7"
      },
      "outputs": [
        {
          "output_type": "stream",
          "name": "stderr",
          "text": [
            "100%|██████████| 8/8 [00:04<00:00,  1.62it/s]\n"
          ]
        }
      ],
      "source": [
        "transcripts = model.transcribe(audio_path)"
      ]
    },
    {
      "cell_type": "code",
      "source": [
        "final_transcript = ' '"
      ],
      "metadata": {
        "id": "bbzcKziD9aYx"
      },
      "execution_count": null,
      "outputs": []
    },
    {
      "cell_type": "code",
      "execution_count": null,
      "metadata": {
        "id": "C2Vi7kXw2xGo"
      },
      "outputs": [],
      "source": [
        "for item in transcripts:\n",
        "  final_transcript += ''.join(item['transcription'])"
      ]
    },
    {
      "cell_type": "code",
      "execution_count": null,
      "metadata": {
        "id": "2LKBXZrk5ima",
        "colab": {
          "base_uri": "https://localhost:8080/"
        },
        "outputId": "5cab103b-2f6b-4489-f1cb-77b188063790"
      },
      "outputs": [
        {
          "output_type": "execute_result",
          "data": {
            "text/plain": [
              "3828"
            ]
          },
          "metadata": {},
          "execution_count": 71
        }
      ],
      "source": [
        "len(final_transcript)"
      ]
    },
    {
      "cell_type": "code",
      "source": [],
      "metadata": {
        "id": "FH8QJF3O9-IN"
      },
      "execution_count": null,
      "outputs": []
    },
    {
      "cell_type": "markdown",
      "source": [
        "#**Summarization Module setup**"
      ],
      "metadata": {
        "id": "Cl6sG6LY-ibU"
      }
    },
    {
      "cell_type": "code",
      "source": [
        "from transformers import pipeline"
      ],
      "metadata": {
        "id": "jtmUwSt2-jj3"
      },
      "execution_count": null,
      "outputs": []
    },
    {
      "cell_type": "code",
      "source": [
        "summarization = pipeline('summarization')"
      ],
      "metadata": {
        "colab": {
          "base_uri": "https://localhost:8080/"
        },
        "id": "wnxBQBAQ-u1B",
        "outputId": "3b039d9a-0c8d-453a-b652-e67039630097"
      },
      "execution_count": null,
      "outputs": [
        {
          "output_type": "stream",
          "name": "stderr",
          "text": [
            "No model was supplied, defaulted to sshleifer/distilbart-cnn-12-6 and revision a4f8f3e (https://huggingface.co/sshleifer/distilbart-cnn-12-6).\n",
            "Using a pipeline without specifying a model name and revision in production is not recommended.\n"
          ]
        }
      ]
    },
    {
      "cell_type": "code",
      "source": [
        "summarized_text = summarization(final_transcript)"
      ],
      "metadata": {
        "id": "8B_kTnByG2bY"
      },
      "execution_count": null,
      "outputs": []
    },
    {
      "cell_type": "code",
      "source": [
        "summarized_text[0]['summary_text']"
      ],
      "metadata": {
        "colab": {
          "base_uri": "https://localhost:8080/",
          "height": 70
        },
        "id": "aAwJDzf4IV4l",
        "outputId": "c5e693e1-3c34-4e65-f60f-399b1e35b45b"
      },
      "execution_count": null,
      "outputs": [
        {
          "output_type": "execute_result",
          "data": {
            "text/plain": [
              "\" i've actually failed st afewiguas not quite a few interviews because to be honest wasn't e given a lot of interviews but i like tell you guys y failure interview stories . The only other interviews i did were in college and the ones i failed were microsoft my microsoft interview you would not believe itit was a phone interview only got tohe phone interviewani was super-try-hearting leagu codi was like there's no way i'm goinna thi interview .\""
            ],
            "application/vnd.google.colaboratory.intrinsic+json": {
              "type": "string"
            }
          },
          "metadata": {},
          "execution_count": 75
        }
      ]
    },
    {
      "cell_type": "markdown",
      "source": [
        "#**Text Chunking(to avoid memory overflow in colab) And Summarization**"
      ],
      "metadata": {
        "id": "uG4SklugG8rK"
      }
    },
    {
      "cell_type": "code",
      "source": [
        "num_iters = int(len(final_transcript)/1000)\n",
        "summarized_text = []\n",
        "for i in range(0, num_iters + 1):\n",
        "  start = 0\n",
        "  start = i * 1000\n",
        "  end = (i + 1) * 1000\n",
        "  print(\"input text \\n\" + final_transcript[start:end])\n",
        "  out = summarization(final_transcript[start:end])\n",
        "  out = out[0]\n",
        "  out = out['summary_text']\n",
        "  print(\"Summarized text\\n\"+out)\n",
        "  summarized_text.append(out)\n",
        "\n"
      ],
      "metadata": {
        "colab": {
          "base_uri": "https://localhost:8080/"
        },
        "id": "QURSYAi6-oAG",
        "outputId": "4d96c6c8-8315-43ea-cdb4-62f28b67b8e1"
      },
      "execution_count": null,
      "outputs": [
        {
          "output_type": "stream",
          "name": "stdout",
          "text": [
            "input text \n",
            " ifld my coding interview mi'm sorryfor what i's worth i've actually failed st afewiguas not quite a few interviews because to be honest wasn't e given a lot of interviews but i like tell you guys y failure interview stories so i did not o a tun of interview themain ones i did rpremuch back in college because i told you guys after i graduated i was unemployed could not get interviews for the life of me it was like twenty-twenty nobody was really hiring back down it was like the pandema the beginning osthe only interview iot wasike thegoogle one and i did pass that one obably nowbut the only other interviews i did were in collegeandthe ones i failed were microsoft my microsoft interview you would not believe itit was a phone interview only got tohe phone interviewani was super-try-hearting leagu codi was like there's no way i'm goinna thi interview sowas to be a thirty-minute phone call they didn't even give me a lot of information about itthe coding question was not even a coding quest\n",
            "Summarized text\n",
            " i've actually failed st afewiguas not quite a few interviews because to be honest wasn't given a lot of interviews but i like tell you guys y failure interview stories so i did not o a tun of interview themain ones i did rpremuch back in college because i told you guys after i graduated i was unemployed could not get interviews for the life of me .\n",
            "input text \n",
            "iomeaidn't  code anything up it was just a phone interview that gui gave me a problem and i just had to like talk through itndpoblem was pretty much this the tinyyuarall problem was more orless that problemthik ialready done this code problem bpretty much told him te solutiooproblem immediatelyio't now if he thought i was cheating or  was superrud bythe waythe whole time he wsininterest of time we o this quicklyr b really rushing meit was a thirty-minute call it ended in fifteen minutes ithought i answered it perfectly given that i knew the problem becaus smart juscus i had done it before then i got rejectedthat was inda dum ne rejection theremicrosoft taken that ofthe her offer i got was amazonken microsoft over amazon butokyou live with tt onethere's another company yougas probably haven't heard  that i interviewed foreign college called viva systems tey're not like a superwell-known companypretty like dti'd considered them a company thare l valleyrelatively big companytwenty-seven m\n",
            "Summarized text\n",
            " iomeaidn't  code anything up it was just a phone interview that gui gave me a problem and i just had to talk through itndpoblem was pretty much this the tinyyuarall problem was more orless that problemthik ialready done this code problem bpretty much told him te solutiooproblem immediatelyio't now if he thought i was cheating or  was superrud by the way .\n",
            "input text \n",
            "illion whao pretty big company a healthcare searem companyth onei did very very well in the interviewactually like their interview process it wasn't even like leadcodestyle interviews at least tit wasn't l superhard it was lke very reasonable uestionsthen ipremuch got past the technical round i had around itheither a recruiter or e  non-technical esonand this guy dated mevery hardly he tricked methis was lie a very valuable lesson though that i learnedtobi was pretty dump he asked mewere excited have you get this far on the process by the way he wastalking like he wanted to give me a offer pre much talking tatway okegtting lose to giving yo  wat know where your t currently in the interview process what other companies are you interviewing with and stuff like ai didn't really know why he was asking me tand iwaokm interviewing with a couple other companies are interviewing with amazonandoke what would your firce choice be for companyamong companies you're interviewing with who would youm\n",
            "Summarized text\n",
            " i did very very well in the interview actually like their interview process it wasn't even like leadcodestyle interviews at least tit wasn't l superhard it was very reasonable uestionsthen ipremuch got past the technical round i had around itheither a recruiter or e  non-technical esonand this guy dated mevery hardly he tricked methis was lie a very valuable lesson though that i learned .\n",
            "input text \n",
            "ost prefer to joinyou can imagion how i answered this question how would yugus answer that question if smeone asked you what you think is the correct answerobviously what he wanted to hear was i'm really excited to join viva but i told him probably amazon just because i already live seattle ias very dum and nieve  just being honest and that's my learnt people that you're talking to no matter how nice they come off they'reyour friend a few hours after that call i got an email saysrywe're moving forward with somebody else and i wasnt even mad i was just outplayed he for d-chessed me and i was jt very very dum you haveto live with those i thinkas long as you learna lesson i think you can live unfortuntthe only other company i interviewed for leaston college was google and ilready made a video about how i feeled that one\n",
            "Summarized text\n",
            " ias very dum and nieve  just being honest and that's my learnt people that you're talking to no matter how nice they come off they're your friend . A few hours after that call i got an email saysrywe're moving forward with somebody else . i wasnt even mad i was just outplayed he for d-chessed me and i was jt very very dumm you haveto live with those i thinkas long as you learn a lesson i think you can live unfortuntt .\n"
          ]
        }
      ]
    },
    {
      "cell_type": "code",
      "source": [
        "str(summarized_text)"
      ],
      "metadata": {
        "id": "TuAHIrd5_Kmz",
        "colab": {
          "base_uri": "https://localhost:8080/",
          "height": 191
        },
        "outputId": "0648535c-f60b-42f0-adf6-be3a907cfba2"
      },
      "execution_count": null,
      "outputs": [
        {
          "output_type": "execute_result",
          "data": {
            "text/plain": [
              "'[\" i\\'ve actually failed st afewiguas not quite a few interviews because to be honest wasn\\'t given a lot of interviews but i like tell you guys y failure interview stories so i did not o a tun of interview themain ones i did rpremuch back in college because i told you guys after i graduated i was unemployed could not get interviews for the life of me .\", \" iomeaidn\\'t  code anything up it was just a phone interview that gui gave me a problem and i just had to talk through itndpoblem was pretty much this the tinyyuarall problem was more orless that problemthik ialready done this code problem bpretty much told him te solutiooproblem immediatelyio\\'t now if he thought i was cheating or  was superrud by the way .\", \" i did very very well in the interview actually like their interview process it wasn\\'t even like leadcodestyle interviews at least tit wasn\\'t l superhard it was very reasonable uestionsthen ipremuch got past the technical round i had around itheither a recruiter or e  non-technical esonand this guy dated mevery hardly he tricked methis was lie a very valuable lesson though that i learned .\", \" ias very dum and nieve  just being honest and that\\'s my learnt people that you\\'re talking to no matter how nice they come off they\\'re your friend . A few hours after that call i got an email saysrywe\\'re moving forward with somebody else . i wasnt even mad i was just outplayed he for d-chessed me and i was jt very very dumm you haveto live with those i thinkas long as you learn a lesson i think you can live unfortuntt .\"]'"
            ],
            "application/vnd.google.colaboratory.intrinsic+json": {
              "type": "string"
            }
          },
          "metadata": {},
          "execution_count": 77
        }
      ]
    },
    {
      "cell_type": "code",
      "source": [],
      "metadata": {
        "id": "D2p9b4lpGd7r"
      },
      "execution_count": null,
      "outputs": []
    }
  ],
  "metadata": {
    "accelerator": "GPU",
    "colab": {
      "provenance": []
    },
    "kernelspec": {
      "display_name": "Python 3",
      "name": "python3"
    },
    "language_info": {
      "name": "python"
    }
  },
  "nbformat": 4,
  "nbformat_minor": 0
}